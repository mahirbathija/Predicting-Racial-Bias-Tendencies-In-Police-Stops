{
 "cells": [
  {
   "cell_type": "code",
   "execution_count": 51,
   "metadata": {},
   "outputs": [],
   "source": [
    "import pandas as pd"
   ]
  },
  {
   "cell_type": "code",
   "execution_count": 126,
   "metadata": {},
   "outputs": [],
   "source": [
    "data = pd.read_csv(\"2016stopdata_raw.csv\")"
   ]
  },
  {
   "cell_type": "code",
   "execution_count": 127,
   "metadata": {},
   "outputs": [],
   "source": [
    "clean = data.copy()"
   ]
  },
  {
   "cell_type": "code",
   "execution_count": 128,
   "metadata": {},
   "outputs": [],
   "source": [
    "clean = clean.drop(columns=\"location_raw\")\n",
    "clean = clean.drop(columns=\"highway_type\")\n",
    "clean = clean.drop(columns=\"road_number\")\n",
    "clean = clean.drop(columns=\"milepost\")\n",
    "clean = clean.drop(columns=\"lat\")\n",
    "clean = clean.drop(columns=\"lon\")\n",
    "clean = clean.drop(columns=\"stop_date\")\n",
    "clean = clean.drop(columns=\"county_fips\")\n",
    "clean = clean.drop(columns=\"fine_grained_location\")\n",
    "clean = clean.drop(columns=\"enforcements\")\n",
    "clean = clean.drop(columns=\"drugs_related_stop\")\n",
    "clean = clean.drop(columns=\"driver_age_raw\")\n",
    "clean = clean.drop(columns=\"police_department\")\n",
    "clean = clean.drop(columns=\"driver_race_raw\")\n",
    "clean = clean.drop(columns=\"violation_raw\")\n",
    "clean = clean.drop(columns=\"location_raw\")\n",
    "clean = clean.drop(columns=\"highway_type\")\n",
    "clean = clean.drop(columns=\"road_number\")\n",
    "clean = clean.drop(columns=\"milepost\")\n",
    "clean = clean.drop(columns=\"lat\")\n",
    "clean = clean.drop(columns=\"lon\")\n",
    "clean = clean.drop(columns=\"stop_date\")\n",
    "clean = clean.drop(columns=\"search_type\")\n",
    "clean = clean.drop(columns=\"contraband_found\")\n",
    "clean = clean.drop(columns=\"is_arrested\")\n",
    "clean = clean.drop(columns=\"officer_id\")\n",
    "clean = clean.drop(columns=\"violations\")"
   ]
  },
  {
   "cell_type": "code",
   "execution_count": 131,
   "metadata": {},
   "outputs": [],
   "source": [
    "clean_2 = clean.dropna()"
   ]
  },
  {
   "cell_type": "code",
   "execution_count": 132,
   "metadata": {},
   "outputs": [],
   "source": [
    "clean_2.to_csv('2016.csv', index = False, encoding = 'utf-8')"
   ]
  }
 ],
 "metadata": {
  "kernelspec": {
   "display_name": "Python 3",
   "language": "python",
   "name": "python3"
  },
  "language_info": {
   "codemirror_mode": {
    "name": "ipython",
    "version": 3
   },
   "file_extension": ".py",
   "mimetype": "text/x-python",
   "name": "python",
   "nbconvert_exporter": "python",
   "pygments_lexer": "ipython3",
   "version": "3.7.0"
  }
 },
 "nbformat": 4,
 "nbformat_minor": 2
}
