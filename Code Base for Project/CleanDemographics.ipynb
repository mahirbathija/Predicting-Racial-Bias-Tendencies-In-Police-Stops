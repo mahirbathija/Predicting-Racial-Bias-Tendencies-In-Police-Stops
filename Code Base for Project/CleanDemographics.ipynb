{
 "cells": [
  {
   "cell_type": "code",
   "execution_count": 5,
   "metadata": {},
   "outputs": [],
   "source": [
    "import pandas as pd"
   ]
  },
  {
   "cell_type": "code",
   "execution_count": 6,
   "metadata": {},
   "outputs": [],
   "source": [
    "file = r'demographics_rawData.csv'\n",
    "df = pd.read_csv(file)"
   ]
  },
  {
   "cell_type": "code",
   "execution_count": 7,
   "metadata": {},
   "outputs": [],
   "source": [
    "df['population'] = df['population'].str.replace(\"\\n\", \"\")\n",
    "df['percentage'] = df ['percentage'].str.replace(\"\\n\\n\\ue840\\ue83f\\n\", \"\")\n",
    "df['percentage'] = df ['percentage'].str.replace(\"%\", \"\")\n",
    "df['county'] = df['county'].str.replace(\", Washington\", \"\")\n",
    "df['race'] = df['race'].str.replace(\", percent\", \"\")\n",
    "df['race'] = df['race'].str.replace(\"Native Hawaiian and Other \", \"\")\n",
    "df['race'] = df['race'].str.replace(\"Black or \", \"\")\n",
    "df['race'] = df['race'].str.replace(\" and Alaska Native\", \"\")"
   ]
  },
  {
   "cell_type": "code",
   "execution_count": 8,
   "metadata": {},
   "outputs": [],
   "source": [
    "df.to_csv('demographics_cleanData.csv', \n",
    "                      index = False)"
   ]
  }
 ],
 "metadata": {
  "kernelspec": {
   "display_name": "Python 3",
   "language": "python",
   "name": "python3"
  },
  "language_info": {
   "codemirror_mode": {
    "name": "ipython",
    "version": 3
   },
   "file_extension": ".py",
   "mimetype": "text/x-python",
   "name": "python",
   "nbconvert_exporter": "python",
   "pygments_lexer": "ipython3",
   "version": "3.6.5"
  }
 },
 "nbformat": 4,
 "nbformat_minor": 2
}
