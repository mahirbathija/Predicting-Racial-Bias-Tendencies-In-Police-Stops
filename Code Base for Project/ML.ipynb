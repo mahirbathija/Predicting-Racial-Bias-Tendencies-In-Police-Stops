{
 "cells": [
  {
   "cell_type": "code",
   "execution_count": 61,
   "metadata": {},
   "outputs": [
    {
     "ename": "ModuleNotFoundError",
     "evalue": "No module named 'xgboost'",
     "output_type": "error",
     "traceback": [
      "\u001b[1;31m---------------------------------------------------------------------------\u001b[0m",
      "\u001b[1;31mModuleNotFoundError\u001b[0m                       Traceback (most recent call last)",
      "\u001b[1;32m<ipython-input-61-01b3f5af557b>\u001b[0m in \u001b[0;36m<module>\u001b[1;34m()\u001b[0m\n\u001b[0;32m      1\u001b[0m \u001b[1;32mimport\u001b[0m \u001b[0mpandas\u001b[0m \u001b[1;32mas\u001b[0m \u001b[0mpd\u001b[0m\u001b[1;33m\u001b[0m\u001b[0m\n\u001b[1;32m----> 2\u001b[1;33m \u001b[1;32mfrom\u001b[0m \u001b[0mxgboost\u001b[0m \u001b[1;32mimport\u001b[0m \u001b[0mXGBClassifier\u001b[0m\u001b[1;33m\u001b[0m\u001b[0m\n\u001b[0m\u001b[0;32m      3\u001b[0m \u001b[1;32mfrom\u001b[0m \u001b[0msklearn\u001b[0m\u001b[1;33m.\u001b[0m\u001b[0mmodel_selection\u001b[0m \u001b[1;32mimport\u001b[0m \u001b[0mtrain_test_split\u001b[0m\u001b[1;33m\u001b[0m\u001b[0m\n\u001b[0;32m      4\u001b[0m \u001b[1;32mfrom\u001b[0m \u001b[0msklearn\u001b[0m\u001b[1;33m.\u001b[0m\u001b[0mmetrics\u001b[0m \u001b[1;32mimport\u001b[0m \u001b[0maccuracy_score\u001b[0m\u001b[1;33m\u001b[0m\u001b[0m\n\u001b[0;32m      5\u001b[0m \u001b[1;32mfrom\u001b[0m \u001b[0msklearn\u001b[0m\u001b[1;33m.\u001b[0m\u001b[0mmetrics\u001b[0m \u001b[1;32mimport\u001b[0m \u001b[0maverage_precision_score\u001b[0m\u001b[1;33m\u001b[0m\u001b[0m\n",
      "\u001b[1;31mModuleNotFoundError\u001b[0m: No module named 'xgboost'"
     ]
    }
   ],
   "source": [
    "import pandas as pd\n",
    "from xgboost import XGBClassifier\n",
    "from sklearn.model_selection import train_test_split\n",
    "from sklearn.metrics import accuracy_score\n",
    "from sklearn.metrics import average_precision_score"
   ]
  },
  {
   "cell_type": "code",
   "execution_count": 23,
   "metadata": {},
   "outputs": [],
   "source": [
    "data = pd.read_csv('complete_clean_data.csv')"
   ]
  },
  {
   "cell_type": "code",
   "execution_count": 53,
   "metadata": {},
   "outputs": [],
   "source": [
    "data2 = data.copy()"
   ]
  },
  {
   "cell_type": "code",
   "execution_count": 54,
   "metadata": {},
   "outputs": [
    {
     "data": {
      "text/plain": [
       "Index(['id', 'state', 'stop_time', 'county_name', 'driver_gender',\n",
       "       'driver_age', 'driver_race', 'violation', 'search_conducted',\n",
       "       'search_type_raw', 'stop_outcome', 'officer_gender', 'officer_race',\n",
       "       'contact_type', 'African American alone', 'American Indian alone',\n",
       "       'Asian alone', 'Hispanic or Latino', 'Pacific Islander alone',\n",
       "       'Two or More Races', 'White alone', 'year', 'Democratic', 'Other',\n",
       "       'Republican', 'DUIviolation', 'SpeedingViolation', 'EquipmentViolation',\n",
       "       'LicenseViolation', 'LightsViolation', 'PaperworkViolation',\n",
       "       'SafeMovementViolation', 'StoppingViolation', 'RegistrationViolation',\n",
       "       'SeatBeltViolation', 'MovingViolation', 'CellPhoneViolation',\n",
       "       'TruckViolation', 'OtherViolation', 'TotalViolations', 'MinorityDriver',\n",
       "       'MinorityOfficer', 'DriverOfficerSameRace', 'ArrestOrCitation'],\n",
       "      dtype='object')"
      ]
     },
     "execution_count": 54,
     "metadata": {},
     "output_type": "execute_result"
    }
   ],
   "source": [
    "data2.columns"
   ]
  },
  {
   "cell_type": "code",
   "execution_count": 56,
   "metadata": {},
   "outputs": [],
   "source": [
    "data2.search_conducted = data2['search_conducted'].astype(int)\n",
    "f = lambda x: int(x['stop_time'].split(':')[0])\n",
    "data2.stop_time = data2.apply(f, axis=1)"
   ]
  },
  {
   "cell_type": "code",
   "execution_count": 57,
   "metadata": {},
   "outputs": [],
   "source": [
    "driver_gender_dummy = pd.get_dummies(data2.driver_gender, prefix = 'driver_gender')\n",
    "officer_gender_dummy = pd.get_dummies(data2.officer_gender, prefix = 'officer_gender')\n",
    "officer_race_dummy = pd.get_dummies(data2.officer_race, prefix = 'officer_race')\n",
    "data2 = pd.concat([data2, driver_gender_dummy, officer_gender_dummy, officer_race_dummy], axis = 1)"
   ]
  },
  {
   "cell_type": "code",
   "execution_count": 58,
   "metadata": {},
   "outputs": [],
   "source": [
    "drop = ['id', 'state', 'county_name', 'driver_race', 'violation', 'search_type_raw', 'stop_outcome', 'contact_type', 'DriverOfficerSameRace', 'African American alone', 'American Indian alone', 'Asian alone', 'Hispanic or Latino', 'Pacific Islander alone', 'Two or More Races', 'White alone', 'officer_race_Other', 'driver_gender_F', 'officer_gender_F', 'driver_gender', 'officer_gender', 'officer_race', 'Other']\n",
    "data2 = data2.drop(drop, axis = 1)"
   ]
  },
  {
   "cell_type": "code",
   "execution_count": 59,
   "metadata": {},
   "outputs": [
    {
     "data": {
      "text/plain": [
       "Index(['stop_time', 'driver_age', 'search_conducted', 'year', 'Democratic',\n",
       "       'Republican', 'DUIviolation', 'SpeedingViolation', 'EquipmentViolation',\n",
       "       'LicenseViolation', 'LightsViolation', 'PaperworkViolation',\n",
       "       'SafeMovementViolation', 'StoppingViolation', 'RegistrationViolation',\n",
       "       'SeatBeltViolation', 'MovingViolation', 'CellPhoneViolation',\n",
       "       'TruckViolation', 'OtherViolation', 'TotalViolations', 'MinorityDriver',\n",
       "       'MinorityOfficer', 'ArrestOrCitation', 'driver_gender_M',\n",
       "       'officer_gender_M', 'officer_race_Asian', 'officer_race_Black',\n",
       "       'officer_race_Hispanic', 'officer_race_White'],\n",
       "      dtype='object')"
      ]
     },
     "execution_count": 59,
     "metadata": {},
     "output_type": "execute_result"
    }
   ],
   "source": [
    "data2.columns"
   ]
  },
  {
   "cell_type": "code",
   "execution_count": 60,
   "metadata": {},
   "outputs": [
    {
     "data": {
      "text/html": [
       "<div>\n",
       "<style scoped>\n",
       "    .dataframe tbody tr th:only-of-type {\n",
       "        vertical-align: middle;\n",
       "    }\n",
       "\n",
       "    .dataframe tbody tr th {\n",
       "        vertical-align: top;\n",
       "    }\n",
       "\n",
       "    .dataframe thead th {\n",
       "        text-align: right;\n",
       "    }\n",
       "</style>\n",
       "<table border=\"1\" class=\"dataframe\">\n",
       "  <thead>\n",
       "    <tr style=\"text-align: right;\">\n",
       "      <th></th>\n",
       "      <th>stop_time</th>\n",
       "      <th>driver_age</th>\n",
       "      <th>search_conducted</th>\n",
       "      <th>year</th>\n",
       "      <th>Democratic</th>\n",
       "      <th>Republican</th>\n",
       "      <th>DUIviolation</th>\n",
       "      <th>SpeedingViolation</th>\n",
       "      <th>EquipmentViolation</th>\n",
       "      <th>LicenseViolation</th>\n",
       "      <th>...</th>\n",
       "      <th>TotalViolations</th>\n",
       "      <th>MinorityDriver</th>\n",
       "      <th>MinorityOfficer</th>\n",
       "      <th>ArrestOrCitation</th>\n",
       "      <th>driver_gender_M</th>\n",
       "      <th>officer_gender_M</th>\n",
       "      <th>officer_race_Asian</th>\n",
       "      <th>officer_race_Black</th>\n",
       "      <th>officer_race_Hispanic</th>\n",
       "      <th>officer_race_White</th>\n",
       "    </tr>\n",
       "  </thead>\n",
       "  <tbody>\n",
       "    <tr>\n",
       "      <th>0</th>\n",
       "      <td>0</td>\n",
       "      <td>27</td>\n",
       "      <td>0</td>\n",
       "      <td>2009</td>\n",
       "      <td>48.19</td>\n",
       "      <td>49.34</td>\n",
       "      <td>0</td>\n",
       "      <td>0</td>\n",
       "      <td>1</td>\n",
       "      <td>0</td>\n",
       "      <td>...</td>\n",
       "      <td>1</td>\n",
       "      <td>0</td>\n",
       "      <td>0</td>\n",
       "      <td>0</td>\n",
       "      <td>1</td>\n",
       "      <td>1</td>\n",
       "      <td>0</td>\n",
       "      <td>0</td>\n",
       "      <td>0</td>\n",
       "      <td>1</td>\n",
       "    </tr>\n",
       "    <tr>\n",
       "      <th>1</th>\n",
       "      <td>0</td>\n",
       "      <td>17</td>\n",
       "      <td>0</td>\n",
       "      <td>2009</td>\n",
       "      <td>70.30</td>\n",
       "      <td>28.17</td>\n",
       "      <td>0</td>\n",
       "      <td>1</td>\n",
       "      <td>0</td>\n",
       "      <td>0</td>\n",
       "      <td>...</td>\n",
       "      <td>1</td>\n",
       "      <td>0</td>\n",
       "      <td>0</td>\n",
       "      <td>0</td>\n",
       "      <td>0</td>\n",
       "      <td>1</td>\n",
       "      <td>0</td>\n",
       "      <td>0</td>\n",
       "      <td>0</td>\n",
       "      <td>1</td>\n",
       "    </tr>\n",
       "    <tr>\n",
       "      <th>2</th>\n",
       "      <td>0</td>\n",
       "      <td>31</td>\n",
       "      <td>1</td>\n",
       "      <td>2009</td>\n",
       "      <td>70.30</td>\n",
       "      <td>28.17</td>\n",
       "      <td>0</td>\n",
       "      <td>0</td>\n",
       "      <td>0</td>\n",
       "      <td>1</td>\n",
       "      <td>...</td>\n",
       "      <td>3</td>\n",
       "      <td>1</td>\n",
       "      <td>0</td>\n",
       "      <td>1</td>\n",
       "      <td>1</td>\n",
       "      <td>1</td>\n",
       "      <td>0</td>\n",
       "      <td>0</td>\n",
       "      <td>0</td>\n",
       "      <td>1</td>\n",
       "    </tr>\n",
       "    <tr>\n",
       "      <th>3</th>\n",
       "      <td>0</td>\n",
       "      <td>24</td>\n",
       "      <td>0</td>\n",
       "      <td>2009</td>\n",
       "      <td>55.19</td>\n",
       "      <td>42.87</td>\n",
       "      <td>0</td>\n",
       "      <td>0</td>\n",
       "      <td>0</td>\n",
       "      <td>0</td>\n",
       "      <td>...</td>\n",
       "      <td>1</td>\n",
       "      <td>0</td>\n",
       "      <td>0</td>\n",
       "      <td>0</td>\n",
       "      <td>0</td>\n",
       "      <td>1</td>\n",
       "      <td>0</td>\n",
       "      <td>0</td>\n",
       "      <td>0</td>\n",
       "      <td>1</td>\n",
       "    </tr>\n",
       "    <tr>\n",
       "      <th>4</th>\n",
       "      <td>0</td>\n",
       "      <td>36</td>\n",
       "      <td>0</td>\n",
       "      <td>2009</td>\n",
       "      <td>55.18</td>\n",
       "      <td>42.99</td>\n",
       "      <td>1</td>\n",
       "      <td>1</td>\n",
       "      <td>0</td>\n",
       "      <td>1</td>\n",
       "      <td>...</td>\n",
       "      <td>3</td>\n",
       "      <td>0</td>\n",
       "      <td>0</td>\n",
       "      <td>1</td>\n",
       "      <td>1</td>\n",
       "      <td>1</td>\n",
       "      <td>0</td>\n",
       "      <td>0</td>\n",
       "      <td>0</td>\n",
       "      <td>1</td>\n",
       "    </tr>\n",
       "  </tbody>\n",
       "</table>\n",
       "<p>5 rows × 30 columns</p>\n",
       "</div>"
      ],
      "text/plain": [
       "   stop_time  driver_age  search_conducted  year  Democratic  Republican  \\\n",
       "0          0          27                 0  2009       48.19       49.34   \n",
       "1          0          17                 0  2009       70.30       28.17   \n",
       "2          0          31                 1  2009       70.30       28.17   \n",
       "3          0          24                 0  2009       55.19       42.87   \n",
       "4          0          36                 0  2009       55.18       42.99   \n",
       "\n",
       "   DUIviolation  SpeedingViolation  EquipmentViolation  LicenseViolation  \\\n",
       "0             0                  0                   1                 0   \n",
       "1             0                  1                   0                 0   \n",
       "2             0                  0                   0                 1   \n",
       "3             0                  0                   0                 0   \n",
       "4             1                  1                   0                 1   \n",
       "\n",
       "          ...          TotalViolations  MinorityDriver  MinorityOfficer  \\\n",
       "0         ...                        1               0                0   \n",
       "1         ...                        1               0                0   \n",
       "2         ...                        3               1                0   \n",
       "3         ...                        1               0                0   \n",
       "4         ...                        3               0                0   \n",
       "\n",
       "   ArrestOrCitation  driver_gender_M  officer_gender_M  officer_race_Asian  \\\n",
       "0                 0                1                 1                   0   \n",
       "1                 0                0                 1                   0   \n",
       "2                 1                1                 1                   0   \n",
       "3                 0                0                 1                   0   \n",
       "4                 1                1                 1                   0   \n",
       "\n",
       "   officer_race_Black  officer_race_Hispanic  officer_race_White  \n",
       "0                   0                      0                   1  \n",
       "1                   0                      0                   1  \n",
       "2                   0                      0                   1  \n",
       "3                   0                      0                   1  \n",
       "4                   0                      0                   1  \n",
       "\n",
       "[5 rows x 30 columns]"
      ]
     },
     "execution_count": 60,
     "metadata": {},
     "output_type": "execute_result"
    }
   ],
   "source": [
    "data2.head()"
   ]
  },
  {
   "cell_type": "code",
   "execution_count": null,
   "metadata": {},
   "outputs": [],
   "source": []
  }
 ],
 "metadata": {
  "kernelspec": {
   "display_name": "Python 3",
   "language": "python",
   "name": "python3"
  },
  "language_info": {
   "codemirror_mode": {
    "name": "ipython",
    "version": 3
   },
   "file_extension": ".py",
   "mimetype": "text/x-python",
   "name": "python",
   "nbconvert_exporter": "python",
   "pygments_lexer": "ipython3",
   "version": "3.6.5"
  }
 },
 "nbformat": 4,
 "nbformat_minor": 2
}
